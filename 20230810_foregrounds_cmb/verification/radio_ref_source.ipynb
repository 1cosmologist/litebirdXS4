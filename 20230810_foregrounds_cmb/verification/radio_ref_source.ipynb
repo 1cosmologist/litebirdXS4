{
 "cells": [
  {
   "cell_type": "code",
   "execution_count": 1,
   "id": "aba58897-d120-485f-80e1-891a8abe6928",
   "metadata": {
    "tags": []
   },
   "outputs": [
    {
     "name": "stderr",
     "output_type": "stream",
     "text": [
      "\n",
      "WARNING: version mismatch between CFITSIO header (v3.47) and linked library (v4.02).\n",
      "\n",
      "\n",
      "WARNING: version mismatch between CFITSIO header (v3.47) and linked library (v4.02).\n",
      "\n",
      "\n",
      "WARNING: version mismatch between CFITSIO header (v3.47) and linked library (v4.02).\n",
      "\n"
     ]
    }
   ],
   "source": [
    "import healpy as hp\n",
    "import matplotlib.pyplot as plt\n",
    "import numpy as np\n",
    "from pathlib import Path"
   ]
  },
  {
   "cell_type": "code",
   "execution_count": 2,
   "id": "89006f4b-6426-49ce-80ca-fd03ff858200",
   "metadata": {
    "tags": []
   },
   "outputs": [],
   "source": [
    "folder = Path(\"/mnt/home/azonca/s/pysm-data/websky/0.4/radio/\")"
   ]
  },
  {
   "cell_type": "code",
   "execution_count": 4,
   "id": "4f7432e3-91e4-4e73-913f-5fbca350adf2",
   "metadata": {
    "tags": []
   },
   "outputs": [],
   "source": [
    "radio_files = !ls $folder "
   ]
  },
  {
   "cell_type": "code",
   "execution_count": 5,
   "id": "96c3fce7-34bd-4e76-a1f2-523ff0504ae9",
   "metadata": {
    "tags": []
   },
   "outputs": [
    {
     "data": {
      "text/plain": [
       "['radio_0001.0.fits',\n",
       " 'radio_0018.7.fits',\n",
       " 'radio_0021.6.fits',\n",
       " 'radio_0024.5.fits',\n",
       " 'radio_0027.3.fits',\n",
       " 'radio_0030.0.fits',\n",
       " 'radio_0035.9.fits',\n",
       " 'radio_0041.7.fits',\n",
       " 'radio_0044.0.fits',\n",
       " 'radio_0047.4.fits',\n",
       " 'radio_0063.9.fits',\n",
       " 'radio_0067.8.fits',\n",
       " 'radio_0070.0.fits',\n",
       " 'radio_0073.7.fits',\n",
       " 'radio_0079.6.fits',\n",
       " 'radio_0090.2.fits',\n",
       " 'radio_0100.0.fits',\n",
       " 'radio_0111.0.fits',\n",
       " 'radio_0129.0.fits',\n",
       " 'radio_0143.0.fits',\n",
       " 'radio_0153.0.fits',\n",
       " 'radio_0164.0.fits',\n",
       " 'radio_0189.0.fits',\n",
       " 'radio_0210.0.fits',\n",
       " 'radio_0217.0.fits',\n",
       " 'radio_0232.0.fits',\n",
       " 'radio_0256.0.fits',\n",
       " 'radio_0275.0.fits',\n",
       " 'radio_0294.0.fits',\n",
       " 'radio_0306.0.fits',\n",
       " 'radio_0314.0.fits',\n",
       " 'radio_0340.0.fits',\n",
       " 'radio_0353.0.fits',\n",
       " 'radio_0375.0.fits',\n",
       " 'radio_0409.0.fits',\n",
       " 'radio_0467.0.fits',\n",
       " 'radio_0525.0.fits',\n",
       " 'radio_0545.0.fits',\n",
       " 'radio_0584.0.fits',\n",
       " 'radio_0643.0.fits',\n",
       " 'radio_0729.0.fits',\n",
       " 'radio_0817.0.fits',\n",
       " 'radio_0857.0.fits',\n",
       " 'radio_0906.0.fits']"
      ]
     },
     "execution_count": 5,
     "metadata": {},
     "output_type": "execute_result"
    }
   ],
   "source": [
    "radio_files"
   ]
  },
  {
   "cell_type": "code",
   "execution_count": 6,
   "id": "51d8f56a-47d7-42c2-af59-b40f5514f866",
   "metadata": {
    "tags": []
   },
   "outputs": [],
   "source": [
    "ref_pix = 189596988"
   ]
  },
  {
   "cell_type": "code",
   "execution_count": 7,
   "id": "eed38124-e763-4179-aa6b-ed6f7e927425",
   "metadata": {
    "tags": []
   },
   "outputs": [
    {
     "name": "stdout",
     "output_type": "stream",
     "text": [
      "radio_0001.0.fits\n",
      "radio_0018.7.fits\n",
      "radio_0021.6.fits\n",
      "radio_0024.5.fits\n",
      "radio_0027.3.fits\n",
      "radio_0030.0.fits\n",
      "radio_0035.9.fits\n",
      "radio_0041.7.fits\n",
      "radio_0044.0.fits\n",
      "radio_0047.4.fits\n",
      "radio_0063.9.fits\n",
      "radio_0067.8.fits\n",
      "radio_0070.0.fits\n",
      "radio_0073.7.fits\n",
      "radio_0079.6.fits\n",
      "radio_0090.2.fits\n",
      "radio_0100.0.fits\n",
      "radio_0111.0.fits\n",
      "radio_0129.0.fits\n",
      "radio_0143.0.fits\n",
      "radio_0153.0.fits\n",
      "radio_0164.0.fits\n",
      "radio_0189.0.fits\n",
      "radio_0210.0.fits\n",
      "radio_0217.0.fits\n",
      "radio_0232.0.fits\n",
      "radio_0256.0.fits\n",
      "radio_0275.0.fits\n",
      "radio_0294.0.fits\n",
      "radio_0306.0.fits\n",
      "radio_0314.0.fits\n",
      "radio_0340.0.fits\n",
      "radio_0353.0.fits\n",
      "radio_0375.0.fits\n",
      "radio_0409.0.fits\n",
      "radio_0467.0.fits\n",
      "radio_0525.0.fits\n",
      "radio_0545.0.fits\n",
      "radio_0584.0.fits\n",
      "radio_0643.0.fits\n",
      "radio_0729.0.fits\n",
      "radio_0817.0.fits\n",
      "radio_0857.0.fits\n",
      "radio_0906.0.fits\n"
     ]
    }
   ],
   "source": [
    "radio_source = []\n",
    "for filename in radio_files:\n",
    "    print(filename)\n",
    "    radio_source.append((\n",
    "        float(filename.split(\"_\")[1].replace(\".fits\",\"\")), hp.read_map(folder / filename)[ref_pix]))"
   ]
  },
  {
   "cell_type": "code",
   "execution_count": 8,
   "id": "c640df70-306d-4608-96d6-912851405b07",
   "metadata": {
    "tags": []
   },
   "outputs": [],
   "source": [
    "clon, clat, glon, glat = (32.86660645897463,\n",
    " -50.554023687565746,\n",
    " 275.28891668590967,\n",
    " -62.06147137885603)"
   ]
  },
  {
   "cell_type": "code",
   "execution_count": 9,
   "id": "d9dd3f91-7f91-4a58-ac05-9c763a04c5bd",
   "metadata": {
    "tags": []
   },
   "outputs": [
    {
     "data": {
      "text/plain": [
       "189596988"
      ]
     },
     "execution_count": 9,
     "metadata": {},
     "output_type": "execute_result"
    }
   ],
   "source": [
    "hp.ang2pix(4096,glon, glat, lonlat=True)"
   ]
  },
  {
   "cell_type": "code",
   "execution_count": 10,
   "id": "003a6e65-a62e-4bf0-be91-8e869b7dadb4",
   "metadata": {
    "tags": []
   },
   "outputs": [],
   "source": [
    "import pandas as pd"
   ]
  },
  {
   "cell_type": "code",
   "execution_count": 11,
   "id": "286b4bcd-71f8-46fd-8345-5568f26277e6",
   "metadata": {
    "tags": []
   },
   "outputs": [],
   "source": [
    "from pysm3 import units as u"
   ]
  },
  {
   "cell_type": "code",
   "execution_count": 12,
   "id": "6cffb871-4428-4778-909a-5a44777300af",
   "metadata": {
    "tags": []
   },
   "outputs": [],
   "source": [
    "source = pd.Series(dict(radio_source))"
   ]
  },
  {
   "cell_type": "code",
   "execution_count": 13,
   "id": "407b39ce-28a1-43d6-8338-fcbed89f757a",
   "metadata": {
    "tags": []
   },
   "outputs": [],
   "source": [
    "source *= hp.nside2pixarea(4096)"
   ]
  },
  {
   "cell_type": "code",
   "execution_count": 14,
   "id": "0f762785-6cf6-4377-b7ec-0a3badc7c9d9",
   "metadata": {
    "tags": []
   },
   "outputs": [
    {
     "data": {
      "image/png": "[encoded data removed]",
      "text/plain": [
       "<Figure size 640x480 with 1 Axes>"
      ]
     },
     "metadata": {},
     "output_type": "display_data"
    }
   ],
   "source": [
    "source.plot()\n",
    "plt.grid()"
   ]
  },
  {
   "cell_type": "code",
   "execution_count": 15,
   "id": "4ab47fc4-e769-4296-9854-418620a20584",
   "metadata": {
    "tags": []
   },
   "outputs": [],
   "source": [
    "source.index.name = \"Frequency [GHz]\""
   ]
  },
  {
   "cell_type": "code",
   "execution_count": 16,
   "id": "084cee88-b74d-4957-a898-78b67b073472",
   "metadata": {
    "tags": []
   },
   "outputs": [],
   "source": [
    "source.name = \"Flux [Jy]\""
   ]
  },
  {
   "cell_type": "code",
   "execution_count": 17,
   "id": "4969caa2-2f7a-401a-8b8c-7551d5875f18",
   "metadata": {},
   "outputs": [
    {
     "data": {
      "text/plain": [
       "Frequency [GHz]\n",
       "1.0      1118.939231\n",
       "18.7     1118.939231\n",
       "21.6      840.120014\n",
       "24.5      659.359819\n",
       "27.3      539.046646\n",
       "30.0      454.752883\n",
       "35.9      334.581129\n",
       "41.7      256.735608\n",
       "44.0      231.286054\n",
       "47.4      198.320019\n",
       "63.9       98.220286\n",
       "67.8       85.489756\n",
       "70.0       79.397402\n",
       "73.7       70.603372\n",
       "79.6       59.457063\n",
       "90.2       45.445878\n",
       "100.0      36.797509\n",
       "111.0      30.059948\n",
       "129.0      22.939004\n",
       "143.0      19.313476\n",
       "153.0      17.367454\n",
       "164.0      15.659387\n",
       "189.0      12.867762\n",
       "210.0      11.140198\n",
       "217.0      10.651881\n",
       "232.0       9.720364\n",
       "256.0       8.496283\n",
       "275.0       7.703020\n",
       "294.0       7.030701\n",
       "306.0       6.655549\n",
       "314.0       6.424601\n",
       "340.0       5.762324\n",
       "353.0       5.474302\n",
       "375.0       5.039875\n",
       "409.0       4.475575\n",
       "467.0       3.733060\n",
       "525.0       3.180436\n",
       "545.0       3.021886\n",
       "584.0       2.749299\n",
       "643.0       2.410130\n",
       "729.0       2.029748\n",
       "817.0       1.736666\n",
       "857.0       1.626833\n",
       "906.0       1.507659\n",
       "Name: Flux [Jy], dtype: float64"
      ]
     },
     "execution_count": 17,
     "metadata": {},
     "output_type": "execute_result"
    }
   ],
   "source": [
    "source"
   ]
  },
  {
   "cell_type": "code",
   "execution_count": 18,
   "id": "3e157f84-b9b2-42d1-a257-509c6c322950",
   "metadata": {
    "tags": []
   },
   "outputs": [],
   "source": [
    "source.to_csv(\"reference_source_flux.csv\")"
   ]
  },
  {
   "cell_type": "code",
   "execution_count": 19,
   "id": "417f3f8e-d38c-45b7-b74c-574a92ce5bd7",
   "metadata": {
    "tags": []
   },
   "outputs": [
    {
     "name": "stdout",
     "output_type": "stream",
     "text": [
      "Frequency [GHz],Flux [Jy]\n",
      "1.0,1118.9392312025805\n",
      "18.7,1118.9392312025805\n",
      "21.6,840.1200141259575\n",
      "24.5,659.3598191180173\n",
      "27.3,539.0466463088762\n",
      "30.0,454.75288313518087\n",
      "35.9,334.5811290051253\n",
      "41.7,256.73560825529364\n",
      "44.0,231.2860535243519\n",
      "47.4,198.3200191699082\n",
      "63.9,98.22028598057739\n",
      "67.8,85.48975589809163\n",
      "70.0,79.39740192458936\n",
      "73.7,70.60337245304362\n",
      "79.6,59.457063222432055\n",
      "90.2,45.44587802855091\n",
      "100.0,36.797508792544825\n",
      "111.0,30.059948116158353\n",
      "129.0,22.939004481815772\n",
      "143.0,19.31347583086452\n",
      "153.0,17.36745362421729\n",
      "164.0,15.65938653206007\n",
      "189.0,12.867762218343415\n",
      "210.0,11.14019819875719\n",
      "217.0,10.651880661367159\n",
      "232.0,9.72036391999957\n",
      "256.0,8.49628275048866\n",
      "275.0,7.703020179961499\n",
      "294.0,7.030700689239765\n",
      "306.0,6.655549486656838\n",
      "314.0,6.424601486946642\n",
      "340.0,5.762324181473161\n",
      "353.0,5.474301625656665\n",
      "375.0,5.039875259657876\n",
      "409.0,4.475574643831067\n",
      "467.0,3.733060162686023\n",
      "525.0,3.18043632789292\n",
      "545.0,3.0218855631366353\n",
      "584.0,2.749298695998455\n",
      "643.0,2.4101300904203313\n",
      "729.0,2.029747963762855\n",
      "817.0,1.7366656751022163\n",
      "857.0,1.6268333689665617\n",
      "906.0,1.5076589868896235\n"
     ]
    }
   ],
   "source": [
    "!cat reference_source_flux.csv"
   ]
  }
 ],
 "metadata": {
  "kernelspec": {
   "display_name": "so",
   "language": "python",
   "name": "so"
  },
  "language_info": {
   "codemirror_mode": {
    "name": "ipython",
    "version": 3
   },
   "file_extension": ".py",
   "mimetype": "text/x-python",
   "name": "python",
   "nbconvert_exporter": "python",
   "pygments_lexer": "ipython3",
   "version": "3.10.0"
  }
 },
 "nbformat": 4,
 "nbformat_minor": 5
}
