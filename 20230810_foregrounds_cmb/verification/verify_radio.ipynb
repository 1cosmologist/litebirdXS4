{
 "cells": [
  {
   "cell_type": "code",
   "execution_count": 1,
   "id": "b0dfc691-69f2-489b-aa77-80e421f62194",
   "metadata": {
    "tags": []
   },
   "outputs": [
    {
     "name": "stderr",
     "output_type": "stream",
     "text": [
      "\n",
      "WARNING: version mismatch between CFITSIO header (v3.47) and linked library (v4.02).\n",
      "\n",
      "\n",
      "WARNING: version mismatch between CFITSIO header (v3.47) and linked library (v4.02).\n",
      "\n",
      "\n",
      "WARNING: version mismatch between CFITSIO header (v3.47) and linked library (v4.02).\n",
      "\n"
     ]
    }
   ],
   "source": [
    "import healpy as hp\n",
    "from pysm3 import units as u\n",
    "import pysm3\n",
    "import numpy as np\n",
    "import matplotlib.pyplot as plt\n",
    "import toml\n",
    "from pathlib import Path"
   ]
  },
  {
   "cell_type": "code",
   "execution_count": 2,
   "id": "9a98a13d-fee3-4c80-b00a-4e60c719d5d8",
   "metadata": {
    "tags": []
   },
   "outputs": [],
   "source": [
    "from astropy.table import QTable"
   ]
  },
  {
   "cell_type": "code",
   "execution_count": 3,
   "id": "6d8555e3-fe25-4d5e-b927-ad49bb7ed9ac",
   "metadata": {
    "tags": []
   },
   "outputs": [
    {
     "name": "stdout",
     "output_type": "stream",
     "text": [
      "/mnt/home/azonca/p/software/litebirdXS4/20230810_foregrounds_cmb\n"
     ]
    }
   ],
   "source": [
    "cd .."
   ]
  },
  {
   "cell_type": "code",
   "execution_count": 4,
   "id": "88b5a97d-9db7-4df9-b717-d53385357fe7",
   "metadata": {
    "tags": []
   },
   "outputs": [],
   "source": [
    "config = toml.load(\"common.toml\")"
   ]
  },
  {
   "cell_type": "code",
   "execution_count": 5,
   "id": "fa5f7ba4-4ce0-4a1d-8a44-0813f526afd7",
   "metadata": {},
   "outputs": [],
   "source": [
    "# chs = chs[chs[\"telescope\"]==\"SAT\"]"
   ]
  },
  {
   "cell_type": "code",
   "execution_count": 6,
   "id": "71295e14-b224-44b2-8691-9225613fd6e0",
   "metadata": {
    "tags": []
   },
   "outputs": [],
   "source": [
    "from astropy.io import fits"
   ]
  },
  {
   "cell_type": "code",
   "execution_count": 7,
   "id": "0e04319f-a7cb-4837-b92c-63b3eea35056",
   "metadata": {
    "tags": []
   },
   "outputs": [],
   "source": [
    "import mapsims"
   ]
  },
  {
   "cell_type": "code",
   "execution_count": 8,
   "id": "cf3d90b2-f15b-4293-9844-42dec5cb61bd",
   "metadata": {
    "tags": []
   },
   "outputs": [],
   "source": [
    "chs = mapsims.parse_channels(instrument_parameters=config[\"instrument_parameters\"])"
   ]
  },
  {
   "cell_type": "markdown",
   "id": "cf8bc245-36f1-4ac7-a6fa-e8c67c85377f",
   "metadata": {},
   "source": [
    "## Verify radio galaxies\n",
    "\n",
    "In order to verify the Radio Galaxy maps, we take the brightest source (at the lowest frequencies) and check that the flux in Jy is similar to what is in the catalog.\n",
    "I have separately gone through all the input maps and extracted the flux and saved it in a csv file.\n",
    "Then I do a simple aperture photometry calculation to integrate the flux across the whole beam and compare it with the expected flux."
   ]
  },
  {
   "cell_type": "code",
   "execution_count": 9,
   "id": "0e5a2e52-86a9-4655-a431-f91a14bc17c3",
   "metadata": {
    "tags": []
   },
   "outputs": [],
   "source": [
    "clon, clat, glon, glat = (32.86660645897463,\n",
    " -50.554023687565746,\n",
    " 275.28891668590967,\n",
    " -62.06147137885603)"
   ]
  },
  {
   "cell_type": "code",
   "execution_count": 10,
   "id": "e8521b71-0999-4fab-80dc-1e2fbe12d538",
   "metadata": {
    "tags": []
   },
   "outputs": [],
   "source": [
    "import pandas as pd"
   ]
  },
  {
   "cell_type": "code",
   "execution_count": 11,
   "id": "87568862-972f-40c8-8ee1-334f0cbf4833",
   "metadata": {
    "tags": []
   },
   "outputs": [],
   "source": [
    "ref_flux = pd.read_csv(\"reference_source_flux.csv\", index_col=0)"
   ]
  },
  {
   "cell_type": "code",
   "execution_count": 12,
   "id": "58c35a2f-fd60-42a5-b2e5-0592ccd9ce6a",
   "metadata": {
    "tags": []
   },
   "outputs": [
    {
     "name": "stdout",
     "output_type": "stream",
     "text": [
      "Channel H3-402 radio_rg1 - Flux 4.66 Jy Ref flux 4.59 Jy Ratio 1.40%\n",
      "Channel H2-337 radio_rg1 - Flux 5.99 Jy Ref flux 5.84 Jy Ratio 2.58%\n",
      "Channel H1-280 radio_rg1 - Flux 7.80 Jy Ref flux 7.53 Jy Ratio 3.66%\n",
      "Channel H2-235 radio_rg1 - Flux 9.98 Jy Ref flux 9.57 Jy Ratio 4.28%\n",
      "Channel H1-195 radio_rg1 - Flux 12.99 Jy Ref flux 12.37 Jy Ratio 4.99%\n",
      "Channel M1-195 radio_rg1 - Flux 12.98 Jy Ref flux 12.37 Jy Ratio 4.92%\n",
      "Channel M2-166 radio_rg1 - Flux 16.21 Jy Ref flux 15.44 Jy Ratio 5.02%\n",
      "Channel M1-140 radio_rg1 - Flux 21.12 Jy Ref flux 20.09 Jy Ratio 5.12%\n",
      "Channel M2-119 radio_rg1 - Flux 28.15 Jy Ref flux 26.90 Jy Ratio 4.68%\n",
      "Channel M1-100 radio_rg1 - Flux 38.45 Jy Ref flux 36.80 Jy Ratio 4.49%\n",
      "Channel L4-140 radio_rg1 - Flux 21.04 Jy Ref flux 20.09 Jy Ratio 4.74%\n",
      "Channel L3-119 radio_rg1 - Flux 28.06 Jy Ref flux 26.90 Jy Ratio 4.32%\n",
      "Channel L4-100 radio_rg1 - Flux 38.32 Jy Ref flux 36.80 Jy Ratio 4.15%\n",
      "Channel L2-089 radio_rg1 - Flux 49.08 Jy Ref flux 47.03 Jy Ratio 4.35%\n",
      "Channel L3-089 radio_rg1 - Flux 48.91 Jy Ref flux 47.03 Jy Ratio 3.99%\n",
      "Channel L1-078 radio_rg1 - Flux 64.80 Jy Ref flux 62.48 Jy Ratio 3.72%\n",
      "Channel L4-078 radio_rg1 - Flux 64.64 Jy Ref flux 62.48 Jy Ratio 3.46%\n",
      "Channel L2-068 radio_rg1 - Flux 92.95 Jy Ref flux 84.94 Jy Ratio 9.44%\n",
      "Channel L3-068 radio_rg1 - Flux 91.05 Jy Ref flux 84.94 Jy Ratio 7.20%\n",
      "Channel L1-060 radio_rg1 - Flux 138.37 Jy Ref flux 121.88 Jy Ratio 13.53%\n",
      "Channel L2-050 radio_rg1 - Flux 198.43 Jy Ref flux 182.55 Jy Ratio 8.70%\n",
      "Channel L1-040 radio_rg1 - Flux 289.26 Jy Ref flux 279.55 Jy Ratio 3.47%\n"
     ]
    }
   ],
   "source": [
    "for ch in chs:\n",
    "    for model in [\"radio_rg1\"]:\n",
    "        print(ch, model, end=\" - \")\n",
    "        tag = model\n",
    "        folder = Path(config[\"output_folder\"].format(tag=tag))\n",
    "        filename = config[\"output_filename_template\"].format(tag=tag, telescope=ch.telescope, nside=ch.nside, band=ch.band)\n",
    "        m = hp.read_map(folder / filename) * u.uK_CMB\n",
    "        nside = hp.npix2nside(len(m))\n",
    "        disc_ipix = hp.query_disc(nside, hp.ang2vec(clon, clat, lonlat=True), ch.beam.to_value(u.radian)*2)\n",
    "        # hp.mollview(m[0].value, min=0, max=10, unit=m.unit, title=\"CO low complexity\")\n",
    "        flux = m[disc_ipix].sum().to(u.Jy/u.sr, equivalencies=u.cmb_equivalencies(ch.center_frequency)) * (hp.nside2pixarea(nside) * u.sr)\n",
    "        rflux = np.interp(ch.center_frequency.value, np.array(ref_flux.index), ref_flux.values.flatten())*u.Jy\n",
    "        fractional_error = flux/rflux - 1\n",
    "        print(f\"Flux {flux:.2f} Ref flux {rflux:.2f} Ratio {fractional_error:.2%}\")\n",
    "        assert np.abs(fractional_error) < .3"
   ]
  }
 ],
 "metadata": {
  "kernelspec": {
   "display_name": "Python 3 (ipykernel)",
   "language": "python",
   "name": "python3"
  },
  "language_info": {
   "codemirror_mode": {
    "name": "ipython",
    "version": 3
   },
   "file_extension": ".py",
   "mimetype": "text/x-python",
   "name": "python",
   "nbconvert_exporter": "python",
   "pygments_lexer": "ipython3",
   "version": "3.10.0"
  }
 },
 "nbformat": 4,
 "nbformat_minor": 5
}
